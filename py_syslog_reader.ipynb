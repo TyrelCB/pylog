{
 "cells": [
  {
   "cell_type": "code",
   "execution_count": 56,
   "metadata": {},
   "outputs": [
    {
     "name": "stdout",
     "output_type": "stream",
     "text": [
      "['10.118.107.254_syslog_2018-10-04.log']\n"
     ]
    }
   ],
   "source": [
    "# Read Syslog output and alert\n",
    "\n",
    "import Write_Output as wo\n",
    "import glob\n",
    "import datetime as dt\n",
    "\n",
    "date = dt.datetime.now().date()\n",
    "\n",
    "logfiles = glob.glob('*'+str(date)+'.log')\n",
    "print(logfiles)"
   ]
  },
  {
   "cell_type": "code",
   "execution_count": 61,
   "metadata": {},
   "outputs": [],
   "source": [
    "track_dict = wo.read_file('count_track_'+str(date))"
   ]
  },
  {
   "cell_type": "code",
   "execution_count": 69,
   "metadata": {},
   "outputs": [
    {
     "data": {
      "text/plain": [
       "\"{'10.118.107.254_syslog_2018-10-04.log': 0}\""
      ]
     },
     "execution_count": 69,
     "metadata": {},
     "output_type": "execute_result"
    }
   ],
   "source": [
    "track_dict"
   ]
  },
  {
   "cell_type": "code",
   "execution_count": 73,
   "metadata": {},
   "outputs": [],
   "source": [
    "track_dict = eval(track_dict)"
   ]
  },
  {
   "cell_type": "code",
   "execution_count": 57,
   "metadata": {},
   "outputs": [],
   "source": [
    "master_count = 0"
   ]
  },
  {
   "cell_type": "code",
   "execution_count": 58,
   "metadata": {},
   "outputs": [],
   "source": [
    "track_dict = {}\n",
    "for logfile in logfiles:\n",
    "    track_dict[logfile] = master_count"
   ]
  },
  {
   "cell_type": "code",
   "execution_count": 60,
   "metadata": {},
   "outputs": [],
   "source": [
    "wo.write_to_file('count_track_'+str(date), track_dict)"
   ]
  },
  {
   "cell_type": "code",
   "execution_count": 53,
   "metadata": {},
   "outputs": [
    {
     "data": {
      "text/plain": [
       "{'10.118.107.254_syslog_2018-10-04.log': 0}"
      ]
     },
     "execution_count": 53,
     "metadata": {},
     "output_type": "execute_result"
    }
   ],
   "source": [
    "track_dict"
   ]
  },
  {
   "cell_type": "code",
   "execution_count": 77,
   "metadata": {},
   "outputs": [
    {
     "name": "stdout",
     "output_type": "stream",
     "text": [
      "66 10.118.107.254 : 2018-10-04 14:17:17.744764 : <189>149: Oct  4 18:17:16.789: %SYS-5-CONFIG_I: Configured from console by tbarstow on vty0 (10.118.106.175)\n"
     ]
    }
   ],
   "source": [
    "for logfile,master_count in track_dict.items():\n",
    "    log = wo.read_file(logfile)\n",
    "    log = log.split('\\n')\n",
    "    #print(len(log))\n",
    "    count = len(log)\n",
    "    if count > master_count:\n",
    "        linecount = 0\n",
    "        for line in log:\n",
    "            linecount = linecount+1\n",
    "            if linecount > master_count:\n",
    "                #if 'SYS-5' in line:\n",
    "                print(linecount,line)\n",
    "    else:\n",
    "        print('no new lines')\n",
    "    track_dict[logfile] = count\n",
    "    wo.write_to_file('count_track_'+str(date), track_dict)"
   ]
  },
  {
   "cell_type": "code",
   "execution_count": null,
   "metadata": {},
   "outputs": [],
   "source": []
  },
  {
   "cell_type": "code",
   "execution_count": null,
   "metadata": {},
   "outputs": [],
   "source": []
  }
 ],
 "metadata": {
  "kernelspec": {
   "display_name": "Python 3",
   "language": "python",
   "name": "python3"
  },
  "language_info": {
   "codemirror_mode": {
    "name": "ipython",
    "version": 3
   },
   "file_extension": ".py",
   "mimetype": "text/x-python",
   "name": "python",
   "nbconvert_exporter": "python",
   "pygments_lexer": "ipython3",
   "version": "3.8.6"
  }
 },
 "nbformat": 4,
 "nbformat_minor": 2
}
